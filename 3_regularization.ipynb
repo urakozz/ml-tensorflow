{
 "cells": [
  {
   "cell_type": "markdown",
   "metadata": {
    "colab_type": "text",
    "id": "kR-4eNdK6lYS"
   },
   "source": [
    "Deep Learning\n",
    "=============\n",
    "\n",
    "Assignment 3\n",
    "------------\n",
    "\n",
    "Previously in `2_fullyconnected.ipynb`, you trained a logistic regression and a neural network model.\n",
    "\n",
    "The goal of this assignment is to explore regularization techniques."
   ]
  },
  {
   "cell_type": "code",
   "execution_count": 1,
   "metadata": {
    "cellView": "both",
    "colab": {
     "autoexec": {
      "startup": false,
      "wait_interval": 0
     }
    },
    "colab_type": "code",
    "collapsed": true,
    "id": "JLpLa8Jt7Vu4"
   },
   "outputs": [],
   "source": [
    "# These are all the modules we'll be using later. Make sure you can import them\n",
    "# before proceeding further.\n",
    "from __future__ import print_function\n",
    "import numpy as np\n",
    "import tensorflow as tf\n",
    "from six.moves import cPickle as pickle"
   ]
  },
  {
   "cell_type": "markdown",
   "metadata": {
    "colab_type": "text",
    "id": "1HrCK6e17WzV"
   },
   "source": [
    "First reload the data we generated in _notmist.ipynb_."
   ]
  },
  {
   "cell_type": "code",
   "execution_count": 2,
   "metadata": {
    "cellView": "both",
    "colab": {
     "autoexec": {
      "startup": false,
      "wait_interval": 0
     },
     "output_extras": [
      {
       "item_id": 1
      }
     ]
    },
    "colab_type": "code",
    "collapsed": false,
    "executionInfo": {
     "elapsed": 11777,
     "status": "ok",
     "timestamp": 1449849322348,
     "user": {
      "color": "",
      "displayName": "",
      "isAnonymous": false,
      "isMe": true,
      "permissionId": "",
      "photoUrl": "",
      "sessionId": "0",
      "userId": ""
     },
     "user_tz": 480
    },
    "id": "y3-cj1bpmuxc",
    "outputId": "e03576f1-ebbe-4838-c388-f1777bcc9873"
   },
   "outputs": [
    {
     "name": "stdout",
     "output_type": "stream",
     "text": [
      "Training set (200000, 28, 28) (200000,)\n",
      "Validation set (10000, 28, 28) (10000,)\n",
      "Test set (10000, 28, 28) (10000,)\n"
     ]
    }
   ],
   "source": [
    "pickle_file = 'notMNIST.pickle'\n",
    "\n",
    "with open(pickle_file, 'rb') as f:\n",
    "  save = pickle.load(f)\n",
    "  train_dataset = save['train_dataset']\n",
    "  train_labels = save['train_labels']\n",
    "  valid_dataset = save['valid_dataset']\n",
    "  valid_labels = save['valid_labels']\n",
    "  test_dataset = save['test_dataset']\n",
    "  test_labels = save['test_labels']\n",
    "  del save  # hint to help gc free up memory\n",
    "  print('Training set', train_dataset.shape, train_labels.shape)\n",
    "  print('Validation set', valid_dataset.shape, valid_labels.shape)\n",
    "  print('Test set', test_dataset.shape, test_labels.shape)"
   ]
  },
  {
   "cell_type": "markdown",
   "metadata": {
    "colab_type": "text",
    "id": "L7aHrm6nGDMB"
   },
   "source": [
    "Reformat into a shape that's more adapted to the models we're going to train:\n",
    "- data as a flat matrix,\n",
    "- labels as float 1-hot encodings."
   ]
  },
  {
   "cell_type": "code",
   "execution_count": 3,
   "metadata": {
    "cellView": "both",
    "colab": {
     "autoexec": {
      "startup": false,
      "wait_interval": 0
     },
     "output_extras": [
      {
       "item_id": 1
      }
     ]
    },
    "colab_type": "code",
    "collapsed": false,
    "executionInfo": {
     "elapsed": 11728,
     "status": "ok",
     "timestamp": 1449849322356,
     "user": {
      "color": "",
      "displayName": "",
      "isAnonymous": false,
      "isMe": true,
      "permissionId": "",
      "photoUrl": "",
      "sessionId": "0",
      "userId": ""
     },
     "user_tz": 480
    },
    "id": "IRSyYiIIGIzS",
    "outputId": "3f8996ee-3574-4f44-c953-5c8a04636582"
   },
   "outputs": [
    {
     "name": "stdout",
     "output_type": "stream",
     "text": [
      "Training set (200000, 784) (200000, 10)\n",
      "Validation set (10000, 784) (10000, 10)\n",
      "Test set (10000, 784) (10000, 10)\n"
     ]
    }
   ],
   "source": [
    "image_size = 28\n",
    "num_labels = 10\n",
    "\n",
    "def reformat(dataset, labels):\n",
    "  dataset = dataset.reshape((-1, image_size * image_size)).astype(np.float32)\n",
    "  # Map 2 to [0.0, 1.0, 0.0 ...], 3 to [0.0, 0.0, 1.0 ...]\n",
    "  labels = (np.arange(num_labels) == labels[:,None]).astype(np.float32)\n",
    "  return dataset, labels\n",
    "train_dataset, train_labels = reformat(train_dataset, train_labels)\n",
    "valid_dataset, valid_labels = reformat(valid_dataset, valid_labels)\n",
    "test_dataset, test_labels = reformat(test_dataset, test_labels)\n",
    "print('Training set', train_dataset.shape, train_labels.shape)\n",
    "print('Validation set', valid_dataset.shape, valid_labels.shape)\n",
    "print('Test set', test_dataset.shape, test_labels.shape)"
   ]
  },
  {
   "cell_type": "code",
   "execution_count": 4,
   "metadata": {
    "cellView": "both",
    "colab": {
     "autoexec": {
      "startup": false,
      "wait_interval": 0
     }
    },
    "colab_type": "code",
    "collapsed": true,
    "id": "RajPLaL_ZW6w"
   },
   "outputs": [],
   "source": [
    "def accuracy(predictions, labels):\n",
    "  return (100.0 * np.sum(np.argmax(predictions, 1) == np.argmax(labels, 1))\n",
    "          / predictions.shape[0])"
   ]
  },
  {
   "cell_type": "markdown",
   "metadata": {
    "colab_type": "text",
    "id": "sgLbUAQ1CW-1"
   },
   "source": [
    "---\n",
    "Problem 1\n",
    "---------\n",
    "\n",
    "Introduce and tune L2 regularization for both logistic and neural network models. Remember that L2 amounts to adding a penalty on the norm of the weights to the loss. In TensorFlow, you can compute the L2 loss for a tensor `t` using `nn.l2_loss(t)`. The right amount of regularization should improve your validation / test accuracy.\n",
    "\n",
    "---"
   ]
  },
  {
   "cell_type": "code",
   "execution_count": 14,
   "metadata": {
    "collapsed": true
   },
   "outputs": [],
   "source": [
    "L2_coeff = 0.5e-2\n",
    "graph = tf.Graph()\n",
    "with graph.as_default():\n",
    "    X = tf.placeholder(tf.float32, shape=(batch_size, image_size * image_size))\n",
    "    X_test = tf.constant(test_dataset)\n",
    "    \n",
    "    y = tf.placeholder(tf.float32, shape=(batch_size, num_labels))\n",
    "    \n",
    "    W1 = tf.Variable(tf.truncated_normal([image_size * image_size, 1024]))\n",
    "    W2 = tf.Variable(tf.truncated_normal([1024, num_labels]))\n",
    "    b1 = tf.Variable(tf.zeros([1024]))\n",
    "    b2 = tf.Variable(tf.zeros([num_labels]))\n",
    "    \n",
    "    # in session \n",
    "    # tf.initialize_all_variables().run()\n",
    "    \n",
    "    logits = tf.matmul(X,W1) + b1\n",
    "    logits_test = tf.matmul(X_test,W1) + b1\n",
    "    \n",
    "    layer1 = tf.nn.relu(logits)\n",
    "    layer1_test = tf.nn.relu(logits_test)\n",
    "    \n",
    "    out = tf.matmul(layer1, W2) + b2\n",
    "    out_test = tf.matmul(layer1_test, W2) + b2\n",
    "    \n",
    "    train_prediction = tf.nn.softmax(out)\n",
    "\n",
    "    nn        = tf.nn.softmax_cross_entropy_with_logits(out, y)\n",
    "    loss      = tf.reduce_mean(nn) + L2_coeff * (tf.nn.l2_loss(W1) + tf.nn.l2_loss(W2)) # <--\n",
    "    optimizer = tf.train.GradientDescentOptimizer(0.5).minimize(loss)\n",
    "    \n",
    "    test_prediction = tf.nn.softmax(out_test)"
   ]
  },
  {
   "cell_type": "code",
   "execution_count": 16,
   "metadata": {
    "collapsed": false
   },
   "outputs": [
    {
     "name": "stdout",
     "output_type": "stream",
     "text": [
      "0 - Test accuracy: 35.6%\n",
      "500 - Test accuracy: 89.1%\n",
      "1000 - Test accuracy: 91.4%\n",
      "1500 - Test accuracy: 91.7%\n",
      "2000 - Test accuracy: 91.7%\n",
      "2500 - Test accuracy: 91.5%\n",
      "\n",
      "Test accuracy: 91.6%\n"
     ]
    }
   ],
   "source": [
    "batch_size = 128\n",
    "with tf.Session(graph=graph) as sess:\n",
    "    \n",
    "    tf.initialize_all_variables().run()\n",
    "    \n",
    "    for i in range(3000):\n",
    "        idx = np.random.randint(train_dataset.shape[0], size=batch_size)\n",
    "        feed_dict = {X : train_dataset[idx], y : train_labels[idx]}\n",
    "        _, proba = sess.run([optimizer, train_prediction], feed_dict=feed_dict)\n",
    "        if (i%500 == 0):\n",
    "            print(\"%d - Test accuracy: %.1f%%\" % (i, accuracy(test_prediction.eval(), test_labels)))\n",
    "\n",
    "    print(\"\\nTest accuracy: %.1f%%\" % accuracy(test_prediction.eval(), test_labels))"
   ]
  },
  {
   "cell_type": "markdown",
   "metadata": {
    "colab_type": "text",
    "id": "na8xX2yHZzNF"
   },
   "source": [
    "---\n",
    "Problem 2\n",
    "---------\n",
    "Let's demonstrate an extreme case of overfitting. Restrict your training data to just a few batches. What happens?\n",
    "\n",
    "---"
   ]
  },
  {
   "cell_type": "code",
   "execution_count": 18,
   "metadata": {
    "collapsed": false
   },
   "outputs": [
    {
     "name": "stdout",
     "output_type": "stream",
     "text": [
      "0 - Test accuracy: 31.3%\n",
      "500 - Test accuracy: 76.5%\n",
      "1000 - Test accuracy: 78.4%\n",
      "1500 - Test accuracy: 80.1%\n",
      "2000 - Test accuracy: 79.8%\n",
      "2500 - Test accuracy: 79.8%\n",
      "\n",
      "Test accuracy: 79.8%\n"
     ]
    }
   ],
   "source": [
    "batch_size = 128\n",
    "with tf.Session(graph=graph) as sess:\n",
    "    \n",
    "    tf.initialize_all_variables().run()\n",
    "    \n",
    "    for i in range(3000):\n",
    "        idx = np.random.randint(train_dataset.shape[0]/1000, size=batch_size) # <-- less data /1000\n",
    "        feed_dict = {X : train_dataset[idx], y : train_labels[idx]}\n",
    "        _, proba = sess.run([optimizer, train_prediction], feed_dict=feed_dict)\n",
    "        if (i%500 == 0):\n",
    "            print(\"%d - Test accuracy: %.1f%%\" % (i, accuracy(test_prediction.eval(), test_labels)))\n",
    "\n",
    "    print(\"\\nTest accuracy: %.1f%%\" % accuracy(test_prediction.eval(), test_labels))"
   ]
  },
  {
   "cell_type": "markdown",
   "metadata": {
    "colab_type": "text",
    "id": "ww3SCBUdlkRc"
   },
   "source": [
    "---\n",
    "Problem 3\n",
    "---------\n",
    "Introduce Dropout on the hidden layer of the neural network. Remember: Dropout should only be introduced during training, not evaluation, otherwise your evaluation results would be stochastic as well. TensorFlow provides `nn.dropout()` for that, but you have to make sure it's only inserted during training.\n",
    "\n",
    "What happens to our extreme overfitting case?\n",
    "\n",
    "---"
   ]
  },
  {
   "cell_type": "code",
   "execution_count": 19,
   "metadata": {
    "collapsed": true
   },
   "outputs": [],
   "source": [
    "L2_coeff = 0.5e-2\n",
    "graph = tf.Graph()\n",
    "with graph.as_default():\n",
    "    X = tf.placeholder(tf.float32, shape=(batch_size, image_size * image_size))\n",
    "    X_test = tf.constant(test_dataset)\n",
    "    \n",
    "    y = tf.placeholder(tf.float32, shape=(batch_size, num_labels))\n",
    "    \n",
    "    W1 = tf.Variable(tf.truncated_normal([image_size * image_size, 1024]))\n",
    "    W2 = tf.Variable(tf.truncated_normal([1024, num_labels]))\n",
    "    b1 = tf.Variable(tf.zeros([1024]))\n",
    "    b2 = tf.Variable(tf.zeros([num_labels]))\n",
    "    \n",
    "    # in session \n",
    "    # tf.initialize_all_variables().run()\n",
    "    \n",
    "    logits = tf.matmul(X,W1) + b1\n",
    "    logits_test = tf.matmul(X_test,W1) + b1\n",
    "    \n",
    "    layer1 = tf.nn.relu(logits)\n",
    "    layer1 = tf.nn.dropout(layer1, 0.5) # <-- dropout\n",
    "    layer1_test = tf.nn.relu(logits_test)\n",
    "    \n",
    "    out = tf.matmul(layer1, W2) + b2\n",
    "    out_test = tf.matmul(layer1_test, W2) + b2\n",
    "    \n",
    "    train_prediction = tf.nn.softmax(out)\n",
    "\n",
    "    nn        = tf.nn.softmax_cross_entropy_with_logits(out, y)\n",
    "    loss      = tf.reduce_mean(nn) + L2_coeff * (tf.nn.l2_loss(W1) + tf.nn.l2_loss(W2)) # <--\n",
    "    optimizer = tf.train.GradientDescentOptimizer(0.5).minimize(loss)\n",
    "    \n",
    "    test_prediction = tf.nn.softmax(out_test)"
   ]
  },
  {
   "cell_type": "code",
   "execution_count": 20,
   "metadata": {
    "collapsed": false
   },
   "outputs": [
    {
     "name": "stdout",
     "output_type": "stream",
     "text": [
      "0 - Test accuracy: 27.6%\n",
      "500 - Test accuracy: 88.8%\n",
      "1000 - Test accuracy: 91.3%\n",
      "1500 - Test accuracy: 90.7%\n",
      "2000 - Test accuracy: 90.6%\n",
      "2500 - Test accuracy: 91.4%\n",
      "\n",
      "Test accuracy: 91.0%\n"
     ]
    }
   ],
   "source": [
    "batch_size = 128\n",
    "with tf.Session(graph=graph) as sess:\n",
    "    \n",
    "    tf.initialize_all_variables().run()\n",
    "    \n",
    "    for i in range(3000):\n",
    "        idx = np.random.randint(train_dataset.shape[0], size=batch_size)\n",
    "        feed_dict = {X : train_dataset[idx], y : train_labels[idx]}\n",
    "        _, proba = sess.run([optimizer, train_prediction], feed_dict=feed_dict)\n",
    "        if (i%500 == 0):\n",
    "            print(\"%d - Test accuracy: %.1f%%\" % (i, accuracy(test_prediction.eval(), test_labels)))\n",
    "\n",
    "    print(\"\\nTest accuracy: %.1f%%\" % accuracy(test_prediction.eval(), test_labels))"
   ]
  },
  {
   "cell_type": "markdown",
   "metadata": {
    "colab_type": "text",
    "id": "-b1hTz3VWZjw"
   },
   "source": [
    "---\n",
    "Problem 4\n",
    "---------\n",
    "\n",
    "Try to get the best performance you can using a multi-layer model! The best reported test accuracy using a deep network is [97.1%](http://yaroslavvb.blogspot.com/2011/09/notmnist-dataset.html?showComment=1391023266211#c8758720086795711595).\n",
    "\n",
    "One avenue you can explore is to add multiple layers.\n",
    "\n",
    "Another one is to use learning rate decay:\n",
    "\n",
    "    global_step = tf.Variable(0)  # count the number of steps taken.\n",
    "    learning_rate = tf.train.exponential_decay(0.5, global_step, ...)\n",
    "    optimizer = tf.train.GradientDescentOptimizer(learning_rate).minimize(loss, global_step=global_step)\n",
    " \n",
    " ---\n"
   ]
  },
  {
   "cell_type": "code",
   "execution_count": 46,
   "metadata": {
    "collapsed": true
   },
   "outputs": [],
   "source": [
    "L2_coeff = 0.5e-2\n",
    "graph = tf.Graph()\n",
    "with graph.as_default():\n",
    "    X = tf.placeholder(tf.float32, shape=(batch_size, image_size * image_size))\n",
    "    X_test = tf.constant(test_dataset)\n",
    "    \n",
    "    y = tf.placeholder(tf.float32, shape=(batch_size, num_labels))\n",
    "    \n",
    "    W1 = tf.Variable(tf.truncated_normal([image_size * image_size, 1024]))\n",
    "    W2 = tf.Variable(tf.truncated_normal([1024, num_labels]))\n",
    "    b1 = tf.Variable(tf.zeros([1024]))\n",
    "    b2 = tf.Variable(tf.zeros([num_labels]))\n",
    "    \n",
    "    # in session \n",
    "    # tf.initialize_all_variables().run()\n",
    "    \n",
    "    logits = tf.matmul(X,W1) + b1\n",
    "    logits_test = tf.matmul(X_test,W1) + b1\n",
    "    \n",
    "    layer1 = tf.nn.relu(logits)\n",
    "    layer1 = tf.nn.dropout(layer1, 0.5) # <-- dropout\n",
    "    layer1_test = tf.nn.relu(logits_test)\n",
    "    \n",
    "    out = tf.matmul(layer1, W2) + b2\n",
    "    out_test = tf.matmul(layer1_test, W2) + b2\n",
    "    \n",
    "    train_prediction = tf.nn.softmax(out)\n",
    "\n",
    "    nn        = tf.nn.softmax_cross_entropy_with_logits(out, y)\n",
    "    loss      = tf.reduce_mean(nn) + L2_coeff * (tf.nn.l2_loss(W1) + tf.nn.l2_loss(W2)) # <-- l2\n",
    "    \n",
    "    global_step = tf.Variable(0, trainable=False)\n",
    "    learn_rate  = tf.train.exponential_decay(0.5, global_step, 1000, 0.8) # <-- learning rate\n",
    "    #learn_rate = tf.constant(0.5)\n",
    "    optimizer   = tf.train.GradientDescentOptimizer(learn_rate).minimize(loss, global_step=global_step)\n",
    "    \n",
    "    test_prediction = tf.nn.softmax(out_test)"
   ]
  },
  {
   "cell_type": "code",
   "execution_count": 47,
   "metadata": {
    "collapsed": false
   },
   "outputs": [
    {
     "name": "stdout",
     "output_type": "stream",
     "text": [
      "Test accuracy: 46.6%, learn rate: 0.50, step 1\n",
      "Test accuracy: 88.9%, learn rate: 0.45, step 501\n",
      "Test accuracy: 90.7%, learn rate: 0.40, step 1001\n",
      "Test accuracy: 91.0%, learn rate: 0.36, step 1501\n",
      "Test accuracy: 91.3%, learn rate: 0.32, step 2001\n",
      "Test accuracy: 91.6%, learn rate: 0.29, step 2501\n",
      "Test accuracy: 91.9%, learn rate: 0.26, step 3001\n",
      "Test accuracy: 91.7%, learn rate: 0.23, step 3501\n",
      "Test accuracy: 92.1%, learn rate: 0.20, step 4001\n",
      "Test accuracy: 91.7%, learn rate: 0.18, step 4501\n",
      "\n",
      "Test accuracy: 91.9%\n"
     ]
    }
   ],
   "source": [
    "batch_size = 128\n",
    "with tf.Session(graph=graph) as sess:\n",
    "    \n",
    "    tf.initialize_all_variables().run()\n",
    "    \n",
    "    for i in range(5000):\n",
    "        idx = np.random.randint(train_dataset.shape[0], size=batch_size)\n",
    "        feed_dict = {X : train_dataset[idx], y : train_labels[idx]}\n",
    "        _, proba = sess.run([optimizer, train_prediction], feed_dict=feed_dict)\n",
    "        if (i%500 == 0):\n",
    "            print(\"Test accuracy: %.1f%%, learn rate: %.2f, step %d\" % (accuracy(test_prediction.eval(), test_labels), learn_rate.eval(), global_step.eval()))\n",
    "\n",
    "    print(\"\\nTest accuracy: %.1f%%\" % accuracy(test_prediction.eval(), test_labels))"
   ]
  },
  {
   "cell_type": "code",
   "execution_count": null,
   "metadata": {
    "collapsed": true
   },
   "outputs": [],
   "source": []
  }
 ],
 "metadata": {
  "colab": {
   "default_view": {},
   "name": "3_regularization.ipynb",
   "provenance": [],
   "version": "0.3.2",
   "views": {}
  },
  "kernelspec": {
   "display_name": "Python 3",
   "language": "python",
   "name": "python3"
  },
  "language_info": {
   "codemirror_mode": {
    "name": "ipython",
    "version": 3
   },
   "file_extension": ".py",
   "mimetype": "text/x-python",
   "name": "python",
   "nbconvert_exporter": "python",
   "pygments_lexer": "ipython3",
   "version": "3.5.1"
  }
 },
 "nbformat": 4,
 "nbformat_minor": 0
}
