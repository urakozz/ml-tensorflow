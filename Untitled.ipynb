{
 "cells": [
  {
   "cell_type": "code",
   "execution_count": 38,
   "metadata": {
    "collapsed": true
   },
   "outputs": [],
   "source": [
    "from __future__ import print_function\n",
    "import collections\n",
    "import numpy as np\n",
    "import tensorflow as tf\n",
    "import zipfile\n",
    "from six.moves.urllib.request import urlretrieve"
   ]
  },
  {
   "cell_type": "code",
   "execution_count": 35,
   "metadata": {
    "collapsed": false
   },
   "outputs": [
    {
     "name": "stdout",
     "output_type": "stream",
     "text": [
      "Found and verified text8.zip\n"
     ]
    }
   ],
   "source": [
    "url = 'http://mattmahoney.net/dc/'\n",
    "\n",
    "def maybe_download(filename, expected_bytes):\n",
    "  \"\"\"Download a file if not present, and make sure it's the right size.\"\"\"\n",
    "  if not os.path.exists(filename):\n",
    "    filename, _ = urlretrieve(url + filename, filename)\n",
    "  statinfo = os.stat(filename)\n",
    "  if statinfo.st_size == expected_bytes:\n",
    "    print('Found and verified %s' % filename)\n",
    "  else:\n",
    "    print(statinfo.st_size)\n",
    "    raise Exception(\n",
    "      'Failed to verify ' + filename + '. Can you get to it with a browser?')\n",
    "  return filename\n",
    "\n",
    "filename = maybe_download('text8.zip', 31344016)"
   ]
  },
  {
   "cell_type": "code",
   "execution_count": 39,
   "metadata": {
    "collapsed": false
   },
   "outputs": [],
   "source": [
    "def read_data(filename):\n",
    "  \"\"\"Extract the first file enclosed in a zip file as a list of words\"\"\"\n",
    "  with zipfile.ZipFile(filename) as f:\n",
    "    data = tf.compat.as_str(f.read(f.namelist()[0])).split()\n",
    "  return data\n",
    "  \n",
    "words = read_data(filename)"
   ]
  },
  {
   "cell_type": "code",
   "execution_count": 40,
   "metadata": {
    "collapsed": false
   },
   "outputs": [
    {
     "data": {
      "text/plain": [
       "['anarchism',\n",
       " 'originated',\n",
       " 'as',\n",
       " 'a',\n",
       " 'term',\n",
       " 'of',\n",
       " 'abuse',\n",
       " 'first',\n",
       " 'used',\n",
       " 'against']"
      ]
     },
     "execution_count": 40,
     "metadata": {},
     "output_type": "execute_result"
    }
   ],
   "source": [
    "words[:10]"
   ]
  },
  {
   "cell_type": "code",
   "execution_count": 57,
   "metadata": {
    "collapsed": false
   },
   "outputs": [
    {
     "name": "stdout",
     "output_type": "stream",
     "text": [
      "['anarchism', 'originated', 'as', 'a', 'term', 'of', 'abuse', 'first', 'used', 'against']\n",
      "[0, 5, 4, 13, 14, 1, 7, 0, 6, 11]\n",
      "['UNK', 'originated', 'as', 'a', 'term', 'of', 'abuse', 'UNK', 'used', 'against']\n"
     ]
    }
   ],
   "source": [
    "class WordNumericEncoder:\n",
    "    def __init__(self, words, common=0, rare_word_token=\"UNK\"):\n",
    "        self._words = words\n",
    "        self._rare_word_token = rare_word_token\n",
    "        self._counter = collections.Counter(words)\n",
    "        \n",
    "        self._set_items(common)\n",
    "        self._build_dictionary()\n",
    "        self._encode_words()\n",
    "        \n",
    "    def _set_items(self, common=0):\n",
    "        self._items = [[self._rare_word_token, -1]]\n",
    "        if common <= 0:\n",
    "            common = len(self._words)\n",
    "            self._items = []\n",
    "        self._items.extend(self._counter.most_common(common))\n",
    "    \n",
    "    def _build_dictionary(self):\n",
    "        self._dictionary = dict()\n",
    "        for word, _ in self._items:\n",
    "            self._dictionary[word] = len(self._dictionary)\n",
    "    \n",
    "    def _encode_words(self):\n",
    "        data = list()\n",
    "        unk_count = 0\n",
    "        for word in self._words:\n",
    "            if word in self._dictionary:\n",
    "                index = self._dictionary[word]\n",
    "            else:\n",
    "                index = 0  # items['UNK']\n",
    "                unk_count = unk_count + 1\n",
    "            data.append(index)\n",
    "        self._items[0][1] = unk_count\n",
    "        self._data = data\n",
    "        \n",
    "    def get_data(self):\n",
    "        return self._data\n",
    "    \n",
    "    def get_reverse_dictionary(self):\n",
    "        return dict(zip(self._dictionary.values(), self._dictionary.keys())) \n",
    "        \n",
    "        \n",
    "e = WordNumericEncoder(words[:20], 15)\n",
    "encoded = e.get_data()[:10]\n",
    "reverse = e.get_reverse_dictionary()\n",
    "print(words[:10]) # ['anarchism', 'originated', 'as', 'a', 'term', 'of', 'abuse', 'first', 'used', 'against']\n",
    "print(encoded) # [0, 5, 4, 13, 14, 1, 7, 0, 6, 11]\n",
    "print([reverse[i] for i in encoded]) # ['UNK', 'originated', 'as', 'a', 'term', 'of', 'abuse', 'UNK', 'used', 'against']\n"
   ]
  },
  {
   "cell_type": "code",
   "execution_count": null,
   "metadata": {
    "collapsed": true
   },
   "outputs": [],
   "source": []
  }
 ],
 "metadata": {
  "kernelspec": {
   "display_name": "Python 3",
   "language": "python",
   "name": "python3"
  },
  "language_info": {
   "codemirror_mode": {
    "name": "ipython",
    "version": 3
   },
   "file_extension": ".py",
   "mimetype": "text/x-python",
   "name": "python",
   "nbconvert_exporter": "python",
   "pygments_lexer": "ipython3",
   "version": "3.5.1"
  }
 },
 "nbformat": 4,
 "nbformat_minor": 0
}
